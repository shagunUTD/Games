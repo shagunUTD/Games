{
 "cells": [
  {
   "cell_type": "code",
   "execution_count": 7,
   "id": "13776804",
   "metadata": {},
   "outputs": [
    {
     "name": "stdout",
     "output_type": "stream",
     "text": [
      "Guess any number between 1 to 5: 4\n",
      "You are correct!\n"
     ]
    }
   ],
   "source": [
    "#Game - Guess the number\n",
    "\n",
    "import random\n",
    "mylist=[1,2,3,4,5]\n",
    "random.shuffle(mylist)\n",
    "guess=input(\"Guess any number between 1 to 5: \")\n",
    "def check_guess(guess, shuffled_list):\n",
    "    if int(guess) == shuffled_list[0]:\n",
    "        print(\"You are correct!\")\n",
    "    else:\n",
    "        print(\"Try again between numbers 1 to 5\")\n",
    "check_guess(guess,mylist)"
   ]
  }
 ],
 "metadata": {
  "kernelspec": {
   "display_name": "Python 3 (ipykernel)",
   "language": "python",
   "name": "python3"
  },
  "language_info": {
   "codemirror_mode": {
    "name": "ipython",
    "version": 3
   },
   "file_extension": ".py",
   "mimetype": "text/x-python",
   "name": "python",
   "nbconvert_exporter": "python",
   "pygments_lexer": "ipython3",
   "version": "3.9.13"
  }
 },
 "nbformat": 4,
 "nbformat_minor": 5
}
